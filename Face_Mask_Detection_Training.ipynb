{
  "nbformat": 4,
  "nbformat_minor": 0,
  "metadata": {
    "colab": {
      "name": "Face Mask Detection Training.ipynb",
      "provenance": [],
      "collapsed_sections": [],
      "authorship_tag": "ABX9TyP96Ys+pVProjSJL4MKQImK",
      "include_colab_link": true
    },
    "kernelspec": {
      "name": "python3",
      "display_name": "Python 3"
    },
    "language_info": {
      "name": "python"
    },
    "accelerator": "GPU"
  },
  "cells": [
    {
      "cell_type": "markdown",
      "metadata": {
        "id": "view-in-github",
        "colab_type": "text"
      },
      "source": [
        "<a href=\"https://colab.research.google.com/github/amartyasinha918/Real-Time-Face-Mask/blob/main/Face_Mask_Detection_Training.ipynb\" target=\"_parent\"><img src=\"https://colab.research.google.com/assets/colab-badge.svg\" alt=\"Open In Colab\"/></a>"
      ]
    },
    {
      "cell_type": "code",
      "source": [
        "# Mount Folder and change directory\n",
        "from google.colab import drive\n",
        "drive.mount('/content/gdrive', force_remount=True)\n",
        "import os\n",
        "os.chdir('/content/gdrive/My Drive/MaskDetectionRoot/')"
      ],
      "metadata": {
        "colab": {
          "base_uri": "https://localhost:8080/"
        },
        "id": "YTEdp-jmcqOt",
        "outputId": "171f44c5-ead2-4f05-e290-48738b5d86b9"
      },
      "execution_count": null,
      "outputs": [
        {
          "output_type": "stream",
          "name": "stdout",
          "text": [
            "Mounted at /content/gdrive\n"
          ]
        }
      ]
    },
    {
      "cell_type": "code",
      "source": [
        "# import all necessary modules\n",
        "import cv2\n",
        "import os\n",
        "import tensorflow as tf\n",
        "import numpy as np\n",
        "from matplotlib import pyplot as plt\n",
        "from tensorflow.python.keras.callbacks import ModelCheckpoint\n",
        "from tensorflow.python.keras.utils import np_utils\n",
        "from sklearn.model_selection import train_test_split\n",
        "import datetime"
      ],
      "metadata": {
        "id": "uXfv6y6LfGQD"
      },
      "execution_count": null,
      "outputs": []
    },
    {
      "cell_type": "code",
      "source": [
        "# assign variables\n",
        "data_path = '/content/gdrive/My Drive/MaskDetectionRoot/data/Dataset'\n",
        "categories = os.listdir(data_path)\n",
        "labels = [i for i in range(len(categories))]\n",
        "label_dict = dict(zip(categories, labels))"
      ],
      "metadata": {
        "id": "5F1kVhj7fJ5m"
      },
      "execution_count": null,
      "outputs": []
    },
    {
      "cell_type": "code",
      "source": [
        "print(labels)\n",
        "print(label_dict)"
      ],
      "metadata": {
        "colab": {
          "base_uri": "https://localhost:8080/"
        },
        "id": "kjlRV4zOyEh5",
        "outputId": "7960d58e-3546-402d-8ead-cc2e9c8e79a9"
      },
      "execution_count": null,
      "outputs": [
        {
          "output_type": "stream",
          "name": "stdout",
          "text": [
            "[0, 1]\n",
            "{'withMask': 0, 'withoutMask': 1}\n"
          ]
        }
      ]
    },
    {
      "cell_type": "code",
      "source": [
        "# create necessary variables\n",
        "img_size = 100\n",
        "data = []\n",
        "target = []\n",
        "\n",
        "# going through each category\n",
        "for category in categories:\n",
        "    path = os.path.join(data_path, category)\n",
        "\n",
        "    # reading image from the image path\n",
        "    for img in os.listdir(path):\n",
        "        img_path = os.path.join(path, img)\n",
        "        img = cv2.imread(img_path)\n",
        "\n",
        "        # preprocessing image before appending in try block\n",
        "        try:\n",
        "            gray=cv2.cvtColor(img,cv2.COLOR_BGR2GRAY)\n",
        "            resized = cv2.resize(gray, (img_size, img_size))\n",
        "            # resizing the img into img_size*img_size, since we need a fixed common size for all the images in the dataset\n",
        "            data.append(resized)\n",
        "            # appending the category in label dict\n",
        "            target.append(label_dict[category])\n",
        "\n",
        "        # handling exception\n",
        "        except Exception as e:\n",
        "            print('Exception:', e)"
      ],
      "metadata": {
        "id": "aAA9S9jffQjp"
      },
      "execution_count": null,
      "outputs": []
    },
    {
      "cell_type": "code",
      "source": [
        "# reshaping data into numpy array and shaping it\n",
        "data = np.array(data)/255.0\n",
        "data=np.reshape(data,(data.shape[0],img_size,img_size,1))\n",
        "target = np.array(target)\n",
        "target = np_utils.to_categorical(target)\n",
        "\n",
        "# saving numpy files of both data and target\n",
        "# np.save('utils/data', data)\n",
        "# np.save('utils/target', target)\n",
        "\n",
        "# printing their shape to cross-check\n",
        "print(data.shape)\n",
        "print(target.shape)"
      ],
      "metadata": {
        "id": "MpuB519TfuJG",
        "colab": {
          "base_uri": "https://localhost:8080/"
        },
        "outputId": "0a9cb9fc-9173-4e3b-bfe5-c6d171aec822"
      },
      "execution_count": null,
      "outputs": [
        {
          "output_type": "stream",
          "name": "stdout",
          "text": [
            "(5988, 100, 100, 1)\n",
            "(5988, 2)\n"
          ]
        }
      ]
    },
    {
      "cell_type": "code",
      "execution_count": null,
      "metadata": {
        "colab": {
          "base_uri": "https://localhost:8080/"
        },
        "id": "KaD22W4jcWto",
        "outputId": "a0e7bb83-b4cc-44ef-ec39-06773e566a47"
      },
      "outputs": [
        {
          "output_type": "stream",
          "name": "stdout",
          "text": [
            "Epoch 1/20\n",
            "135/135 [==============================] - 14s 103ms/step - loss: 0.6367 - accuracy: 0.6057 - val_loss: 0.5107 - val_accuracy: 0.7542\n",
            "Epoch 2/20\n",
            "135/135 [==============================] - 14s 101ms/step - loss: 0.3785 - accuracy: 0.8525 - val_loss: 0.2910 - val_accuracy: 0.8822\n",
            "Epoch 3/20\n",
            "135/135 [==============================] - 14s 106ms/step - loss: 0.2289 - accuracy: 0.9149 - val_loss: 0.1968 - val_accuracy: 0.9174\n",
            "Epoch 4/20\n",
            "135/135 [==============================] - 13s 100ms/step - loss: 0.2129 - accuracy: 0.9209 - val_loss: 0.1818 - val_accuracy: 0.9230\n",
            "Epoch 5/20\n",
            "135/135 [==============================] - 14s 104ms/step - loss: 0.1629 - accuracy: 0.9355 - val_loss: 0.1758 - val_accuracy: 0.9369\n",
            "Epoch 6/20\n",
            "135/135 [==============================] - 12s 92ms/step - loss: 0.1404 - accuracy: 0.9490 - val_loss: 0.1850 - val_accuracy: 0.9332\n",
            "Epoch 7/20\n",
            "135/135 [==============================] - 12s 92ms/step - loss: 0.1439 - accuracy: 0.9457 - val_loss: 0.1811 - val_accuracy: 0.9323\n",
            "Epoch 8/20\n",
            "135/135 [==============================] - 15s 108ms/step - loss: 0.1250 - accuracy: 0.9562 - val_loss: 0.1667 - val_accuracy: 0.9443\n",
            "Epoch 9/20\n",
            "135/135 [==============================] - 15s 108ms/step - loss: 0.1072 - accuracy: 0.9566 - val_loss: 0.1656 - val_accuracy: 0.9443\n",
            "Epoch 10/20\n",
            "135/135 [==============================] - 12s 92ms/step - loss: 0.0888 - accuracy: 0.9694 - val_loss: 0.1836 - val_accuracy: 0.9378\n",
            "Epoch 11/20\n",
            "135/135 [==============================] - 12s 91ms/step - loss: 0.0866 - accuracy: 0.9673 - val_loss: 0.1833 - val_accuracy: 0.9490\n",
            "Epoch 12/20\n",
            "135/135 [==============================] - 13s 94ms/step - loss: 0.0831 - accuracy: 0.9678 - val_loss: 0.1758 - val_accuracy: 0.9443\n",
            "Epoch 13/20\n",
            "135/135 [==============================] - 12s 92ms/step - loss: 0.0717 - accuracy: 0.9729 - val_loss: 0.2132 - val_accuracy: 0.9416\n",
            "Epoch 14/20\n",
            "135/135 [==============================] - 12s 92ms/step - loss: 0.0624 - accuracy: 0.9754 - val_loss: 0.2147 - val_accuracy: 0.9416\n",
            "Epoch 15/20\n",
            "135/135 [==============================] - 13s 95ms/step - loss: 0.0665 - accuracy: 0.9722 - val_loss: 0.2035 - val_accuracy: 0.9443\n",
            "Epoch 16/20\n",
            "135/135 [==============================] - 13s 93ms/step - loss: 0.0569 - accuracy: 0.9801 - val_loss: 0.2102 - val_accuracy: 0.9508\n",
            "Epoch 17/20\n",
            "135/135 [==============================] - 13s 95ms/step - loss: 0.0434 - accuracy: 0.9835 - val_loss: 0.2821 - val_accuracy: 0.9499\n",
            "Epoch 18/20\n",
            "135/135 [==============================] - 13s 94ms/step - loss: 0.0471 - accuracy: 0.9805 - val_loss: 0.2335 - val_accuracy: 0.9499\n",
            "Epoch 19/20\n",
            "135/135 [==============================] - 12s 91ms/step - loss: 0.0618 - accuracy: 0.9801 - val_loss: 0.2446 - val_accuracy: 0.9314\n",
            "Epoch 20/20\n",
            "135/135 [==============================] - 12s 91ms/step - loss: 0.0481 - accuracy: 0.9817 - val_loss: 0.2343 - val_accuracy: 0.9481\n"
          ]
        }
      ],
      "source": [
        "# loading both numpy files to begin training model\n",
        "# data = np.load('utils/data.npy')\n",
        "# target = np.load('utils/target.npy')\n",
        "\n",
        "start = datetime.datetime.now()\n",
        "# building model with CNN algo with the help of tf\n",
        "# 3*3 filter is used, relu activation is used, flattening after creating all layers, softmax is used for better prediction\n",
        "model = tf.keras.Sequential(\n",
        "    [\n",
        "        tf.keras.layers.Conv2D(200, (3, 3), padding='same', activation=\"relu\", input_shape=data.shape[1:]),\n",
        "        tf.keras.layers.MaxPooling2D((2, 2)),\n",
        "\n",
        "        tf.keras.layers.Conv2D(100, (3, 3), padding='same', activation=\"relu\"),\n",
        "        tf.keras.layers.MaxPooling2D((2, 2)),\n",
        "\n",
        "        tf.keras.layers.Flatten(),\n",
        "        tf.keras.layers.Dense(100, activation=\"relu\"),\n",
        "        tf.keras.layers.Dropout(0.50),\n",
        "        tf.keras.layers.Dense(50, activation=\"relu\"),\n",
        "        tf.keras.layers.Dropout(0.30),\n",
        "        tf.keras.layers.Dense(2, activation=\"softmax\")\n",
        "    ]\n",
        ")\n",
        "\n",
        "# compiling model\n",
        "model.compile(optimizer='adam',\n",
        "              loss='categorical_crossentropy',\n",
        "              metrics=['accuracy'])\n",
        "\n",
        "# splitting data into test and train\n",
        "train_data, test_data, train_target, test_target = train_test_split(data, target, test_size=0.1)\n",
        "\n",
        "# creating checkpoint to train model in parts\n",
        "checkpoint = ModelCheckpoint('models/model-{epoch:03d}.h5', monitor='val_loss', save_best_only=True, mode='auto')\n",
        "# training model\n",
        "history = model.fit(train_data, train_target, epochs=20, callbacks=[checkpoint], validation_split=0.2)\n",
        "\n",
        "end = datetime.datetime.now()\n"
      ]
    },
    {
      "cell_type": "code",
      "source": [
        "print(end-start)"
      ],
      "metadata": {
        "colab": {
          "base_uri": "https://localhost:8080/"
        },
        "id": "qp7nt4T5Jt-U",
        "outputId": "1d170744-9b5a-4c32-bff3-8303283a441a"
      },
      "execution_count": null,
      "outputs": [
        {
          "output_type": "stream",
          "name": "stdout",
          "text": [
            "0:04:22.907396\n"
          ]
        }
      ]
    },
    {
      "cell_type": "code",
      "source": [
        "# saving model\n",
        "i = 0\n",
        "while os.path.exists(\"models/model%s.h5\" % i):\n",
        "    i += 1\n",
        "model.save('models/model%s.h5' % i)"
      ],
      "metadata": {
        "id": "p8yvF9iJpy6Z"
      },
      "execution_count": null,
      "outputs": []
    },
    {
      "cell_type": "code",
      "source": [
        "# plotting graph for training\n",
        "# plt.figure(dpi=250)\n",
        "plt.plot(history.history['loss'],label='training loss')\n",
        "plt.plot(history.history['accuracy'], label='training accuracy')\n",
        "plt.xlabel('epochs')\n",
        "plt.ylabel('training loss/accuracy')\n",
        "plt.legend()\n",
        "plt.show()\n",
        "\n",
        "# plotting graph for testing\n",
        "# plt.figure(dpi=250)\n",
        "plt.plot(history.history['val_loss'],label='testing loss')\n",
        "plt.plot(history.history['val_accuracy'], label='testing accuracy')\n",
        "plt.xlabel('epochs')\n",
        "plt.ylabel('testing loss/accuracy')\n",
        "plt.legend()\n",
        "plt.show()\n",
        "\n",
        "# printing evaluation of test data and test target)\n",
        "print(\"Test\")\n",
        "model.evaluate(test_data, test_target, verbose = 0)\n",
        "print(\"Train\")\n",
        "model.evaluate(train_data, train_target, verbose = 0)"
      ],
      "metadata": {
        "colab": {
          "base_uri": "https://localhost:8080/",
          "height": 597
        },
        "id": "BF-jsb8Mfqw9",
        "outputId": "93d52651-7175-4143-a88b-7d2499051011"
      },
      "execution_count": null,
      "outputs": [
        {
          "output_type": "display_data",
          "data": {
            "text/plain": [
              "<Figure size 432x288 with 1 Axes>"
            ],
            "image/png": "[encoded data removed]"
          },
          "metadata": {
            "needs_background": "light"
          }
        },
        {
          "output_type": "display_data",
          "data": {
            "text/plain": [
              "<Figure size 432x288 with 1 Axes>"
            ],
            "image/png": "[encoded data removed]"
          },
          "metadata": {
            "needs_background": "light"
          }
        },
        {
          "output_type": "stream",
          "name": "stdout",
          "text": [
            "Test\n",
            "Train\n"
          ]
        },
        {
          "output_type": "execute_result",
          "data": {
            "text/plain": [
              "[0.06398245692253113, 0.9849693775177002]"
            ]
          },
          "metadata": {},
          "execution_count": 64
        }
      ]
    },
    {
      "cell_type": "code",
      "source": [
        "print(\"Test\")\n",
        "model.evaluate(test_data, test_target, verbose = 0)"
      ],
      "metadata": {
        "colab": {
          "base_uri": "https://localhost:8080/"
        },
        "id": "gESgsZc6pP7W",
        "outputId": "87308450-69e1-40e2-d0ed-7abb5cff2842"
      },
      "execution_count": null,
      "outputs": [
        {
          "output_type": "stream",
          "name": "stdout",
          "text": [
            "Test\n"
          ]
        },
        {
          "output_type": "execute_result",
          "data": {
            "text/plain": [
              "[0.22697356343269348, 0.9465776085853577]"
            ]
          },
          "metadata": {},
          "execution_count": 54
        }
      ]
    },
    {
      "cell_type": "code",
      "source": [
        "model.summary()"
      ],
      "metadata": {
        "colab": {
          "base_uri": "https://localhost:8080/"
        },
        "id": "Z-WM2feRCzNq",
        "outputId": "6faab1e4-5efd-4c2d-c5bf-d797992c2569"
      },
      "execution_count": null,
      "outputs": [
        {
          "output_type": "stream",
          "name": "stdout",
          "text": [
            "Model: \"sequential_2\"\n",
            "_________________________________________________________________\n",
            " Layer (type)                Output Shape              Param #   \n",
            "=================================================================\n",
            " conv2d_4 (Conv2D)           (None, 100, 100, 200)     2000      \n",
            "                                                                 \n",
            " max_pooling2d_4 (MaxPooling  (None, 50, 50, 200)      0         \n",
            " 2D)                                                             \n",
            "                                                                 \n",
            " conv2d_5 (Conv2D)           (None, 50, 50, 100)       180100    \n",
            "                                                                 \n",
            " max_pooling2d_5 (MaxPooling  (None, 25, 25, 100)      0         \n",
            " 2D)                                                             \n",
            "                                                                 \n",
            " flatten_2 (Flatten)         (None, 62500)             0         \n",
            "                                                                 \n",
            " dense_6 (Dense)             (None, 100)               6250100   \n",
            "                                                                 \n",
            " dropout_4 (Dropout)         (None, 100)               0         \n",
            "                                                                 \n",
            " dense_7 (Dense)             (None, 50)                5050      \n",
            "                                                                 \n",
            " dropout_5 (Dropout)         (None, 50)                0         \n",
            "                                                                 \n",
            " dense_8 (Dense)             (None, 2)                 102       \n",
            "                                                                 \n",
            "=================================================================\n",
            "Total params: 6,437,352\n",
            "Trainable params: 6,437,352\n",
            "Non-trainable params: 0\n",
            "_________________________________________________________________\n"
          ]
        }
      ]
    },
    {
      "cell_type": "code",
      "source": [
        "model.get_config()"
      ],
      "metadata": {
        "colab": {
          "base_uri": "https://localhost:8080/"
        },
        "id": "Dx17xNdNCzFc",
        "outputId": "e3b0a4e3-0658-4b29-a19b-6e1d3c331efc"
      },
      "execution_count": null,
      "outputs": [
        {
          "output_type": "execute_result",
          "data": {
            "text/plain": [
              "{'layers': [{'class_name': 'InputLayer',\n",
              "   'config': {'batch_input_shape': (None, 100, 100, 1),\n",
              "    'dtype': 'float32',\n",
              "    'name': 'conv2d_4_input',\n",
              "    'ragged': False,\n",
              "    'sparse': False}},\n",
              "  {'class_name': 'Conv2D',\n",
              "   'config': {'activation': 'relu',\n",
              "    'activity_regularizer': None,\n",
              "    'batch_input_shape': (None, 100, 100, 1),\n",
              "    'bias_constraint': None,\n",
              "    'bias_initializer': {'class_name': 'Zeros', 'config': {}},\n",
              "    'bias_regularizer': None,\n",
              "    'data_format': 'channels_last',\n",
              "    'dilation_rate': (1, 1),\n",
              "    'dtype': 'float32',\n",
              "    'filters': 200,\n",
              "    'groups': 1,\n",
              "    'kernel_constraint': None,\n",
              "    'kernel_initializer': {'class_name': 'GlorotUniform',\n",
              "     'config': {'seed': None}},\n",
              "    'kernel_regularizer': None,\n",
              "    'kernel_size': (3, 3),\n",
              "    'name': 'conv2d_4',\n",
              "    'padding': 'same',\n",
              "    'strides': (1, 1),\n",
              "    'trainable': True,\n",
              "    'use_bias': True}},\n",
              "  {'class_name': 'MaxPooling2D',\n",
              "   'config': {'data_format': 'channels_last',\n",
              "    'dtype': 'float32',\n",
              "    'name': 'max_pooling2d_4',\n",
              "    'padding': 'valid',\n",
              "    'pool_size': (2, 2),\n",
              "    'strides': (2, 2),\n",
              "    'trainable': True}},\n",
              "  {'class_name': 'Conv2D',\n",
              "   'config': {'activation': 'relu',\n",
              "    'activity_regularizer': None,\n",
              "    'bias_constraint': None,\n",
              "    'bias_initializer': {'class_name': 'Zeros', 'config': {}},\n",
              "    'bias_regularizer': None,\n",
              "    'data_format': 'channels_last',\n",
              "    'dilation_rate': (1, 1),\n",
              "    'dtype': 'float32',\n",
              "    'filters': 100,\n",
              "    'groups': 1,\n",
              "    'kernel_constraint': None,\n",
              "    'kernel_initializer': {'class_name': 'GlorotUniform',\n",
              "     'config': {'seed': None}},\n",
              "    'kernel_regularizer': None,\n",
              "    'kernel_size': (3, 3),\n",
              "    'name': 'conv2d_5',\n",
              "    'padding': 'same',\n",
              "    'strides': (1, 1),\n",
              "    'trainable': True,\n",
              "    'use_bias': True}},\n",
              "  {'class_name': 'MaxPooling2D',\n",
              "   'config': {'data_format': 'channels_last',\n",
              "    'dtype': 'float32',\n",
              "    'name': 'max_pooling2d_5',\n",
              "    'padding': 'valid',\n",
              "    'pool_size': (2, 2),\n",
              "    'strides': (2, 2),\n",
              "    'trainable': True}},\n",
              "  {'class_name': 'Flatten',\n",
              "   'config': {'data_format': 'channels_last',\n",
              "    'dtype': 'float32',\n",
              "    'name': 'flatten_2',\n",
              "    'trainable': True}},\n",
              "  {'class_name': 'Dense',\n",
              "   'config': {'activation': 'relu',\n",
              "    'activity_regularizer': None,\n",
              "    'bias_constraint': None,\n",
              "    'bias_initializer': {'class_name': 'Zeros', 'config': {}},\n",
              "    'bias_regularizer': None,\n",
              "    'dtype': 'float32',\n",
              "    'kernel_constraint': None,\n",
              "    'kernel_initializer': {'class_name': 'GlorotUniform',\n",
              "     'config': {'seed': None}},\n",
              "    'kernel_regularizer': None,\n",
              "    'name': 'dense_6',\n",
              "    'trainable': True,\n",
              "    'units': 100,\n",
              "    'use_bias': True}},\n",
              "  {'class_name': 'Dropout',\n",
              "   'config': {'dtype': 'float32',\n",
              "    'name': 'dropout_4',\n",
              "    'noise_shape': None,\n",
              "    'rate': 0.5,\n",
              "    'seed': None,\n",
              "    'trainable': True}},\n",
              "  {'class_name': 'Dense',\n",
              "   'config': {'activation': 'relu',\n",
              "    'activity_regularizer': None,\n",
              "    'bias_constraint': None,\n",
              "    'bias_initializer': {'class_name': 'Zeros', 'config': {}},\n",
              "    'bias_regularizer': None,\n",
              "    'dtype': 'float32',\n",
              "    'kernel_constraint': None,\n",
              "    'kernel_initializer': {'class_name': 'GlorotUniform',\n",
              "     'config': {'seed': None}},\n",
              "    'kernel_regularizer': None,\n",
              "    'name': 'dense_7',\n",
              "    'trainable': True,\n",
              "    'units': 50,\n",
              "    'use_bias': True}},\n",
              "  {'class_name': 'Dropout',\n",
              "   'config': {'dtype': 'float32',\n",
              "    'name': 'dropout_5',\n",
              "    'noise_shape': None,\n",
              "    'rate': 0.3,\n",
              "    'seed': None,\n",
              "    'trainable': True}},\n",
              "  {'class_name': 'Dense',\n",
              "   'config': {'activation': 'softmax',\n",
              "    'activity_regularizer': None,\n",
              "    'bias_constraint': None,\n",
              "    'bias_initializer': {'class_name': 'Zeros', 'config': {}},\n",
              "    'bias_regularizer': None,\n",
              "    'dtype': 'float32',\n",
              "    'kernel_constraint': None,\n",
              "    'kernel_initializer': {'class_name': 'GlorotUniform',\n",
              "     'config': {'seed': None}},\n",
              "    'kernel_regularizer': None,\n",
              "    'name': 'dense_8',\n",
              "    'trainable': True,\n",
              "    'units': 2,\n",
              "    'use_bias': True}}],\n",
              " 'name': 'sequential_2'}"
            ]
          },
          "metadata": {},
          "execution_count": 56
        }
      ]
    },
    {
      "cell_type": "code",
      "source": [
        "pred_target_org = model.predict(test_data)\n",
        "\n",
        "pred_target = pred_target_org\n",
        "\n",
        "test_target_cp = test_target\n",
        "pred_target = np.argmax(pred_target, axis = 1)\n",
        "test_target_cp = np.argmax(test_target, axis = 1)"
      ],
      "metadata": {
        "id": "IAJcBvLGHcuq"
      },
      "execution_count": null,
      "outputs": []
    },
    {
      "cell_type": "code",
      "source": [
        "from sklearn.metrics import confusion_matrix\n",
        "\n",
        "#Get the confusion matrix\n",
        "cf_matrix = confusion_matrix(test_target_cp, pred_target)\n",
        "\n",
        "print(cf_matrix)"
      ],
      "metadata": {
        "colab": {
          "base_uri": "https://localhost:8080/"
        },
        "id": "NIUvF4F7IOiW",
        "outputId": "1fcfa3b4-659b-4996-9b7d-b2e3aee4ab8d"
      },
      "execution_count": null,
      "outputs": [
        {
          "output_type": "stream",
          "name": "stdout",
          "text": [
            "[[285  17]\n",
            " [ 15 282]]\n"
          ]
        }
      ]
    },
    {
      "cell_type": "code",
      "source": [
        "import seaborn as sns\n",
        "import matplotlib.pyplot as plt\n",
        "ax = sns.heatmap(cf_matrix, annot=True, cmap='Blues')\n",
        "\n",
        "ax.set_title('Confusion Matrix with labels\\n\\n');\n",
        "ax.set_xlabel('\\nPredicted Mask Classification')\n",
        "ax.set_ylabel('Actual Mask Classification');\n",
        "\n",
        "## Ticket labels - List must be in alphabetical order\n",
        "ax.xaxis.set_ticklabels(['With Mask','Without Mask'])\n",
        "ax.yaxis.set_ticklabels(['With Mask','Without Mask'])\n",
        "## Display the visualization of the Confusion Matrix.\n",
        "plt.show()"
      ],
      "metadata": {
        "colab": {
          "base_uri": "https://localhost:8080/",
          "height": 336
        },
        "id": "Iu3IJ7-AIWNv",
        "outputId": "1082fe0d-4e09-4e9f-cdeb-533903e1d5b8"
      },
      "execution_count": null,
      "outputs": [
        {
          "output_type": "display_data",
          "data": {
            "text/plain": [
              "<Figure size 432x288 with 2 Axes>"
            ],
            "image/png": "[encoded data removed]"
          },
          "metadata": {
            "needs_background": "light"
          }
        }
      ]
    }
  ]
}